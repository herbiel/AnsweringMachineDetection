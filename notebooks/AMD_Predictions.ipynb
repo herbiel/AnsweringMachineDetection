{
 "cells": [
  {
   "cell_type": "code",
   "execution_count": 21,
   "metadata": {
    "colab": {},
    "colab_type": "code",
    "id": "JsxPKAwsG3pk"
   },
   "outputs": [],
   "source": [
    "import librosa\n",
    "import numpy as np\n",
    "import pandas as pd\n",
    "import pickle\n",
    "import os"
   ]
  },
  {
   "cell_type": "markdown",
   "metadata": {
    "colab_type": "text",
    "id": "TlUeV0ng4QRI"
   },
   "source": []
  },
  {
   "cell_type": "code",
   "execution_count": 22,
   "metadata": {
    "colab": {
     "base_uri": "https://localhost:8080/",
     "height": 136
    },
    "colab_type": "code",
    "id": "4EOatbXKriNr",
    "outputId": "232b8d52-fd74-4565-9393-88b76e9f9e7c"
   },
   "outputs": [
    {
     "data": {
      "text/plain": [
       "RandomForestClassifier()"
      ]
     },
     "execution_count": 22,
     "metadata": {},
     "output_type": "execute_result"
    }
   ],
   "source": [
    "from sklearn import metrics\n",
    "import joblib\n",
    "\n",
    "RECORDINGS_PATH = \"/Users/habi/Downloads\"\n",
    "os.chdir(RECORDINGS_PATH)\n",
    "\n",
    "# loaded_model = pickle.load(open(\"rf-20190125T2102.pkl\", \"rb\"))\n",
    "loaded_model = joblib.load(\"rf-20220104T2150.pkl\")\n",
    "\n",
    "loaded_model"
   ]
  },
  {
   "cell_type": "markdown",
   "metadata": {
    "colab_type": "text",
    "id": "aMTqu79X8Zng"
   },
   "source": [
    "# Testing"
   ]
  },
  {
   "cell_type": "code",
   "execution_count": 23,
   "metadata": {
    "colab": {},
    "colab_type": "code",
    "id": "OkMAXTBV-lUa"
   },
   "outputs": [],
   "source": [
    "def predictFromFile(file):\n",
    "  print(file)\n",
    "  X, sample_rate = librosa.load(file, res_type='kaiser_fast') \n",
    "  mfccs = np.mean(librosa.feature.mfcc(y=X, sr=sample_rate, n_mfcc=40).T,axis=0)\n",
    "  X = [mfccs]\n",
    "  print(\"predict {}\".format(loaded_model.predict(X)))\n",
    "  print(\"predict_proba {}\".format(loaded_model.predict_proba(X)))\n",
    "\n"
   ]
  },
  {
   "cell_type": "code",
   "execution_count": 24,
   "metadata": {
    "colab": {
     "base_uri": "https://localhost:8080/",
     "height": 1904
    },
    "colab_type": "code",
    "id": "0tO4zOlI0oXp",
    "outputId": "138d7815-5f20-469c-c54c-94cec0ceb1c5"
   },
   "outputs": [
    {
     "name": "stdout",
     "output_type": "stream",
     "text": [
      "voice/aecf49c8-7916-cc61-e36f-ff99e487fe98_8132929575.wav\n",
      "predict [1]\n",
      "predict_proba [[0.04 0.96]]\n",
      "voice/bee13b2a-10cb-5aca-2269-7484717a1292_85842369513.wav\n",
      "predict [1]\n",
      "predict_proba [[0.37 0.63]]\n",
      "voice/26750d51-0a9c-7e53-31ee-bb7bf0eb11c5_85946354614.wav\n",
      "predict [1]\n",
      "predict_proba [[0.37 0.63]]\n",
      "voice/d7adacf7-70e6-ffe3-3604-0d1be304ecc4_82196911372.wav\n",
      "predict [1]\n",
      "predict_proba [[0.17 0.83]]\n",
      "voice/cf5dfa1b-19f6-96b2-3873-017c882333c6_852564918754.wav\n",
      "predict [1]\n",
      "predict_proba [[0.08 0.92]]\n",
      "voice/8a11a888-a261-e139-680e-83f5d2e49057_89590637745.wav\n",
      "predict [1]\n",
      "predict_proba [[0.2 0.8]]\n",
      "voice/0d5a1e19-fe47-01ef-9674-a70f9e21f7f4_813523003699.wav\n",
      "predict [1]\n",
      "predict_proba [[0.19 0.81]]\n",
      "voice/31e2602e-c99c-dc6b-9e68-e2ebb95ba25b_895704439977.wav\n",
      "predict [0]\n",
      "predict_proba [[0.64 0.36]]\n",
      "voice/783812c9-53ce-d94f-9e18-b1b1289e8bbb_85883203377.wav\n",
      "predict [1]\n",
      "predict_proba [[0.37 0.63]]\n",
      "voice/04b7be05-021f-8987-3b50-cd17176ef1ef_8212290880.wav\n",
      "predict [1]\n",
      "predict_proba [[0.09 0.91]]\n"
     ]
    }
   ],
   "source": [
    "import glob\n",
    "for file in glob.glob(\"voice/*\"):\n",
    "  predictFromFile(file)"
   ]
  },
  {
   "cell_type": "code",
   "execution_count": 0,
   "metadata": {
    "colab": {},
    "colab_type": "code",
    "id": "1ed99Y6otyds"
   },
   "outputs": [],
   "source": []
  }
 ],
 "metadata": {
  "colab": {
   "collapsed_sections": [],
   "name": "AMD-Predictions.ipynb",
   "provenance": [],
   "toc_visible": true,
   "version": "0.3.2"
  },
  "kernelspec": {
   "display_name": "Python 3 (ipykernel)",
   "language": "python",
   "name": "python3"
  },
  "language_info": {
   "codemirror_mode": {
    "name": "ipython",
    "version": 3
   },
   "file_extension": ".py",
   "mimetype": "text/x-python",
   "name": "python",
   "nbconvert_exporter": "python",
   "pygments_lexer": "ipython3",
   "version": "3.9.5"
  }
 },
 "nbformat": 4,
 "nbformat_minor": 1
}

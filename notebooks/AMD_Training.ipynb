{
 "cells": [
  {
   "cell_type": "code",
   "execution_count": 2,
   "metadata": {
    "colab": {},
    "colab_type": "code",
    "id": "HK0vdfSh6k3V"
   },
   "outputs": [],
   "source": [
    "import librosa\n",
    "import librosa.display\n",
    "import numpy as np\n",
    "import pandas as pd\n",
    "import os"
   ]
  },
  {
   "cell_type": "code",
   "execution_count": 3,
   "metadata": {
    "colab": {
     "base_uri": "https://localhost:8080/",
     "height": 564
    },
    "colab_type": "code",
    "id": "fZQsByci6-OA",
    "outputId": "e8a10fa2-e0d6-4bfc-9e4e-9b483b744ee9"
   },
   "outputs": [
    {
     "name": "stdout",
     "output_type": "stream",
     "text": [
      "count:\n",
      "0    15\n",
      "1    10\n",
      "Name: label, dtype: int64\n",
      "{'beep': 0, 'speech': 1}\n"
     ]
    },
    {
     "data": {
      "text/html": [
       "<div>\n",
       "<style scoped>\n",
       "    .dataframe tbody tr th:only-of-type {\n",
       "        vertical-align: middle;\n",
       "    }\n",
       "\n",
       "    .dataframe tbody tr th {\n",
       "        vertical-align: top;\n",
       "    }\n",
       "\n",
       "    .dataframe thead th {\n",
       "        text-align: right;\n",
       "    }\n",
       "</style>\n",
       "<table border=\"1\" class=\"dataframe\">\n",
       "  <thead>\n",
       "    <tr style=\"text-align: right;\">\n",
       "      <th></th>\n",
       "      <th>file_path</th>\n",
       "      <th>mfccs_40</th>\n",
       "      <th>chroma</th>\n",
       "      <th>mel</th>\n",
       "      <th>contrast</th>\n",
       "      <th>tonnetz</th>\n",
       "      <th>duration</th>\n",
       "      <th>label</th>\n",
       "    </tr>\n",
       "  </thead>\n",
       "  <tbody>\n",
       "    <tr>\n",
       "      <th>0</th>\n",
       "      <td>normal_voice/290d0c83-d0f0-8b14-8572-fc312bac8...</td>\n",
       "      <td>[-571.3539, 16.948996, 0.036792982, 3.9366152,...</td>\n",
       "      <td>[0.72958076, 0.79309595, 0.84281105, 0.8778919...</td>\n",
       "      <td>[0.00039769948, 0.0002510901, 0.0004602023, 0....</td>\n",
       "      <td>[63.26698310174349, 18.00875896970734, 20.4047...</td>\n",
       "      <td>[0.041440252211985384, 0.056259571675176506, 0...</td>\n",
       "      <td>9.72</td>\n",
       "      <td>0</td>\n",
       "    </tr>\n",
       "    <tr>\n",
       "      <th>2</th>\n",
       "      <td>normal_voice/8b8ee4ed-221b-6222-29f8-7af73a058...</td>\n",
       "      <td>[-563.32983, 34.736164, -3.881335, 3.2611938, ...</td>\n",
       "      <td>[0.62028545, 0.66711754, 0.6961068, 0.72624785...</td>\n",
       "      <td>[0.00069938984, 0.00072266953, 0.0011561608, 0...</td>\n",
       "      <td>[37.63539460835902, 14.112737824241064, 19.313...</td>\n",
       "      <td>[-0.05345442303932088, -0.05267263574920788, -...</td>\n",
       "      <td>9.88</td>\n",
       "      <td>0</td>\n",
       "    </tr>\n",
       "    <tr>\n",
       "      <th>4</th>\n",
       "      <td>normal_voice/b2788eea-54c6-013b-e44b-5553306d8...</td>\n",
       "      <td>[-550.4415, 31.06256, -2.6949258, 5.325177, 7....</td>\n",
       "      <td>[0.6395512, 0.69527966, 0.7418388, 0.7739457, ...</td>\n",
       "      <td>[0.00044606102, 0.00047681024, 0.00088301924, ...</td>\n",
       "      <td>[56.63914248512782, 17.576577716809165, 22.313...</td>\n",
       "      <td>[-0.056820924747716266, -0.009115021909210555,...</td>\n",
       "      <td>10.10</td>\n",
       "      <td>0</td>\n",
       "    </tr>\n",
       "    <tr>\n",
       "      <th>6</th>\n",
       "      <td>normal_voice/303b97cd-9744-d93e-98f4-260e05cf9...</td>\n",
       "      <td>[-585.27545, 23.225786, -1.3455567, 2.8895302,...</td>\n",
       "      <td>[0.69682956, 0.75037056, 0.7902981, 0.82167166...</td>\n",
       "      <td>[0.00030930064, 0.00023839499, 0.0006629479, 0...</td>\n",
       "      <td>[50.44052064946122, 15.28866688664565, 18.6015...</td>\n",
       "      <td>[-0.00042013639869729164, -0.01525664277495028...</td>\n",
       "      <td>8.28</td>\n",
       "      <td>0</td>\n",
       "    </tr>\n",
       "    <tr>\n",
       "      <th>8</th>\n",
       "      <td>normal_voice/d136332c-e996-8811-9669-152bb8aa3...</td>\n",
       "      <td>[-538.18506, 37.829617, -7.15697, 3.5153756, 6...</td>\n",
       "      <td>[0.66811734, 0.7184075, 0.76485026, 0.7948932,...</td>\n",
       "      <td>[0.00044168602, 0.0007633776, 0.0016972895, 0....</td>\n",
       "      <td>[52.408764871331236, 16.861522227291967, 20.64...</td>\n",
       "      <td>[-0.026444927871134883, -0.008184597665251129,...</td>\n",
       "      <td>13.20</td>\n",
       "      <td>0</td>\n",
       "    </tr>\n",
       "  </tbody>\n",
       "</table>\n",
       "</div>"
      ],
      "text/plain": [
       "                                           file_path  \\\n",
       "0  normal_voice/290d0c83-d0f0-8b14-8572-fc312bac8...   \n",
       "2  normal_voice/8b8ee4ed-221b-6222-29f8-7af73a058...   \n",
       "4  normal_voice/b2788eea-54c6-013b-e44b-5553306d8...   \n",
       "6  normal_voice/303b97cd-9744-d93e-98f4-260e05cf9...   \n",
       "8  normal_voice/d136332c-e996-8811-9669-152bb8aa3...   \n",
       "\n",
       "                                            mfccs_40  \\\n",
       "0  [-571.3539, 16.948996, 0.036792982, 3.9366152,...   \n",
       "2  [-563.32983, 34.736164, -3.881335, 3.2611938, ...   \n",
       "4  [-550.4415, 31.06256, -2.6949258, 5.325177, 7....   \n",
       "6  [-585.27545, 23.225786, -1.3455567, 2.8895302,...   \n",
       "8  [-538.18506, 37.829617, -7.15697, 3.5153756, 6...   \n",
       "\n",
       "                                              chroma  \\\n",
       "0  [0.72958076, 0.79309595, 0.84281105, 0.8778919...   \n",
       "2  [0.62028545, 0.66711754, 0.6961068, 0.72624785...   \n",
       "4  [0.6395512, 0.69527966, 0.7418388, 0.7739457, ...   \n",
       "6  [0.69682956, 0.75037056, 0.7902981, 0.82167166...   \n",
       "8  [0.66811734, 0.7184075, 0.76485026, 0.7948932,...   \n",
       "\n",
       "                                                 mel  \\\n",
       "0  [0.00039769948, 0.0002510901, 0.0004602023, 0....   \n",
       "2  [0.00069938984, 0.00072266953, 0.0011561608, 0...   \n",
       "4  [0.00044606102, 0.00047681024, 0.00088301924, ...   \n",
       "6  [0.00030930064, 0.00023839499, 0.0006629479, 0...   \n",
       "8  [0.00044168602, 0.0007633776, 0.0016972895, 0....   \n",
       "\n",
       "                                            contrast  \\\n",
       "0  [63.26698310174349, 18.00875896970734, 20.4047...   \n",
       "2  [37.63539460835902, 14.112737824241064, 19.313...   \n",
       "4  [56.63914248512782, 17.576577716809165, 22.313...   \n",
       "6  [50.44052064946122, 15.28866688664565, 18.6015...   \n",
       "8  [52.408764871331236, 16.861522227291967, 20.64...   \n",
       "\n",
       "                                             tonnetz  duration  label  \n",
       "0  [0.041440252211985384, 0.056259571675176506, 0...      9.72      0  \n",
       "2  [-0.05345442303932088, -0.05267263574920788, -...      9.88      0  \n",
       "4  [-0.056820924747716266, -0.009115021909210555,...     10.10      0  \n",
       "6  [-0.00042013639869729164, -0.01525664277495028...      8.28      0  \n",
       "8  [-0.026444927871134883, -0.008184597665251129,...     13.20      0  "
      ]
     },
     "execution_count": 3,
     "metadata": {},
     "output_type": "execute_result"
    }
   ],
   "source": [
    "RECORDINGS_PATH = \"/Users/habi/Downloads\"\n",
    "os.chdir(RECORDINGS_PATH)\n",
    "df = pd.read_pickle(\"amd-df-01-29-10-41.pkl\")\n",
    "\n",
    "\n",
    "#convert label seriers to ints\n",
    "from sklearn import preprocessing\n",
    "le = preprocessing.LabelEncoder()\n",
    "le.fit(df['label'])\n",
    "df['label'] = le.transform(df['label']) \n",
    "\n",
    "print(\"count:\")\n",
    "print(df.label.value_counts())\n",
    "le_name_mapping = dict(zip(le.classes_, le.transform(le.classes_)))\n",
    "print(le_name_mapping)\n",
    "class_names = le.classes_\n",
    "\n",
    "df.head()\n"
   ]
  },
  {
   "cell_type": "code",
   "execution_count": 4,
   "metadata": {
    "colab": {
     "base_uri": "https://localhost:8080/",
     "height": 68
    },
    "colab_type": "code",
    "id": "Vz7r076OLtN6",
    "outputId": "6e9daf1b-09cc-4fe2-a076-cc795ab2ea3d"
   },
   "outputs": [
    {
     "name": "stdout",
     "output_type": "stream",
     "text": [
      "0    10\n",
      "1     6\n",
      "Name: label, dtype: int64\n"
     ]
    }
   ],
   "source": [
    "#remove files with durations longer than 10 seconds\n",
    "df = df.copy()\n",
    "df = df.drop(df[ df['duration']>10].index)\n",
    "df.reset_index(drop=True, inplace=True)\n",
    "\n",
    "print(df.label.value_counts())\n"
   ]
  },
  {
   "cell_type": "code",
   "execution_count": 11,
   "metadata": {
    "colab": {},
    "colab_type": "code",
    "id": "d5qUJc-vCuf7"
   },
   "outputs": [],
   "source": [
    "from sklearn import metrics\n",
    "import matplotlib.pyplot as plt\n",
    "import itertools\n",
    "import joblib\n",
    "#from sklearn.externals import joblib\n",
    "import datetime\n",
    "import pickle\n",
    "\n",
    "\n",
    "def print_classification_results(y_test, res):\n",
    "    print(metrics.accuracy_score(y_test, res))\n",
    "    print(metrics.classification_report(y_test, res))\n",
    "    print(metrics.confusion_matrix(y_test, res))\n",
    "    print(\"\")\n",
    "\n",
    "    \n",
    "def plot_confusion_matrix(cm, classes,\n",
    "                          normalize=False,\n",
    "                          title='Confusion matrix',\n",
    "                          cmap=plt.cm.Blues):\n",
    "    \"\"\"\n",
    "    This function prints and plots the confusion matrix.\n",
    "    Normalization can be applied by setting `normalize=True`.\n",
    "    \"\"\"\n",
    "    if normalize:\n",
    "        cm = cm.astype('float') / cm.sum(axis=1)[:, np.newaxis]\n",
    "        print(\"Normalized confusion matrix\")\n",
    "    else:\n",
    "        print('Confusion matrix, without normalization')\n",
    "\n",
    "    print(cm)\n",
    "\n",
    "    plt.imshow(cm, interpolation='nearest', cmap=cmap)\n",
    "    plt.title(title)\n",
    "    plt.colorbar()\n",
    "    tick_marks = np.arange(len(classes))\n",
    "    plt.xticks(tick_marks, classes, rotation=45)\n",
    "    plt.yticks(tick_marks, classes)\n",
    "\n",
    "    fmt = '.2f' if normalize else 'd'\n",
    "    thresh = cm.max() / 2.\n",
    "    for i, j in itertools.product(range(cm.shape[0]), range(cm.shape[1])):\n",
    "        plt.text(j, i, format(cm[i, j], fmt),\n",
    "                 horizontalalignment=\"center\",\n",
    "                 color=\"white\" if cm[i, j] > thresh else \"black\")\n",
    "\n",
    "    plt.ylabel('True label')\n",
    "    plt.xlabel('Predicted label')\n",
    "    plt.tight_layout()\n",
    "    \n",
    "def save_model(model, model_name):\n",
    "  filename = \"{}-{}.pkl\".format(model_name, datetime.datetime.now().strftime(\"%Y%m%dT%H%M\"))\n",
    "  pickle.dump(model, open(filename, 'wb'))\n",
    "\n",
    "  \n"
   ]
  },
  {
   "cell_type": "code",
   "execution_count": 12,
   "metadata": {
    "colab": {},
    "colab_type": "code",
    "id": "qdkrKetkqwTO"
   },
   "outputs": [],
   "source": [
    "from sklearn.model_selection import train_test_split\n",
    "from sklearn.model_selection import cross_val_score\n",
    "from sklearn import preprocessing\n",
    "\n",
    "def generateFeaturesLabels(features_list):\n",
    "  total_features_len = np.sum([len(df[feature][0]) for feature in features_list])\n",
    "  print(\"total number of features\",total_features_len)\n",
    "  features, labels = np.empty((0,total_features_len)), np.empty(0)\n",
    "  for index, row in df.iterrows():\n",
    "    a = []\n",
    "    for feature in features_list:\n",
    "      a.append(row[feature])\n",
    "      \n",
    "    features = np.vstack([features,np.hstack(a)])\n",
    "    labels = np.append(labels, row[\"label\"])\n",
    "  return np.array(features), np.array(labels, dtype = np.int)\n",
    "\n",
    "def train(features, model):\n",
    "  X, y = generateFeaturesLabels(features)\n",
    "  X_train, X_test, y_train, y_test = train_test_split(X, y, test_size=0.33, random_state=42)\n",
    "  \n",
    "  model.fit(X_train, y_train)\n",
    "  print(\"Score:\",model.score(X_test, y_test))\n",
    "  \n",
    "  cross_val_scores = cross_val_score(model, X, y, cv=5, scoring='f1_macro')\n",
    "  print(\"cross_val_scores:\", cross_val_scores)\n",
    "  print(\"Accuracy: %0.2f (+/- %0.2f)\" % (cross_val_scores.mean(), cross_val_scores.std() * 2))\n",
    "  \n",
    "  predictions = model.predict(X_test)\n",
    "\n",
    "  print_classification_results(y_test, predictions)\n",
    "  \n",
    "  cm = metrics.confusion_matrix(y_test, predictions)\n",
    "  plot_confusion_matrix(cm, class_names)\n",
    "  \n",
    "  print(\"*** Scaled ***\")\n",
    "  scaler = preprocessing.StandardScaler().fit(X_train)\n",
    "  X_train_transformed = scaler.transform(X_train)\n",
    "  scaled_model = model.fit(X_train_transformed, y_train)\n",
    "  X_test_transformed = scaler.transform(X_test)\n",
    "  print(\"scaled_model score:\",model.score(X_test_transformed, y_test))\n",
    "  \n",
    "  return model\n",
    "  \n",
    " "
   ]
  },
  {
   "cell_type": "markdown",
   "metadata": {
    "colab_type": "text",
    "id": "rV7k6IAdwj3Y"
   },
   "source": [
    "# Training"
   ]
  },
  {
   "cell_type": "markdown",
   "metadata": {
    "colab_type": "text",
    "id": "Nzzs3aFAsnek"
   },
   "source": [
    "## OneVsRest"
   ]
  },
  {
   "cell_type": "code",
   "execution_count": 13,
   "metadata": {
    "colab": {
     "base_uri": "https://localhost:8080/",
     "height": 860
    },
    "colab_type": "code",
    "id": "jQAWYl_JsqAE",
    "outputId": "5c0022ba-db3c-4996-bcea-ca16af96477a"
   },
   "outputs": [
    {
     "name": "stdout",
     "output_type": "stream",
     "text": [
      "total number of features 40\n",
      "Score: 1.0\n",
      "cross_val_scores: [1. 1. 1. 1. 1.]\n",
      "Accuracy: 1.00 (+/- 0.00)\n",
      "1.0\n",
      "              precision    recall  f1-score   support\n",
      "\n",
      "           0       1.00      1.00      1.00         3\n",
      "           1       1.00      1.00      1.00         3\n",
      "\n",
      "    accuracy                           1.00         6\n",
      "   macro avg       1.00      1.00      1.00         6\n",
      "weighted avg       1.00      1.00      1.00         6\n",
      "\n",
      "[[3 0]\n",
      " [0 3]]\n",
      "\n",
      "Confusion matrix, without normalization\n",
      "[[3 0]\n",
      " [0 3]]\n",
      "*** Scaled ***\n",
      "scaled_model score: 0.8333333333333334\n"
     ]
    },
    {
     "name": "stderr",
     "output_type": "stream",
     "text": [
      "/var/folders/yz/lkm_ct5s5t74jpsnrc96_46h0000gn/T/ipykernel_32575/1660043069.py:16: DeprecationWarning: `np.int` is a deprecated alias for the builtin `int`. To silence this warning, use `int` by itself. Doing this will not modify any behavior and is safe. When replacing `np.int`, you may wish to use e.g. `np.int64` or `np.int32` to specify the precision. If you wish to review your current use, check the release note link for additional information.\n",
      "Deprecated in NumPy 1.20; for more details and guidance: https://numpy.org/devdocs/release/1.20.0-notes.html#deprecations\n",
      "  return np.array(features), np.array(labels, dtype = np.int)\n"
     ]
    },
    {
     "data": {
      "text/plain": [
       "OneVsRestClassifier(estimator=LogisticRegression(max_iter=4000))"
      ]
     },
     "execution_count": 13,
     "metadata": {},
     "output_type": "execute_result"
    },
    {
     "data": {
      "image/png": "[encoded data removed]",
      "text/plain": [
       "<Figure size 432x288 with 2 Axes>"
      ]
     },
     "metadata": {
      "needs_background": "light"
     },
     "output_type": "display_data"
    }
   ],
   "source": [
    "from sklearn.multiclass import OneVsRestClassifier\n",
    "from sklearn.linear_model import LogisticRegression\n",
    "base_lr = LogisticRegression(solver='lbfgs', max_iter=4000)\n",
    "ovr = OneVsRestClassifier(base_lr)\n",
    "train(['mfccs_40'], ovr)"
   ]
  },
  {
   "cell_type": "code",
   "execution_count": 14,
   "metadata": {
    "colab": {},
    "colab_type": "code",
    "id": "t7UzKYQpx2EC"
   },
   "outputs": [],
   "source": [
    "save_model(ovr,\"ovr\")"
   ]
  },
  {
   "cell_type": "markdown",
   "metadata": {
    "colab_type": "text",
    "id": "ViJIfEnc49if"
   },
   "source": [
    "## RandomForest"
   ]
  },
  {
   "cell_type": "code",
   "execution_count": 15,
   "metadata": {
    "colab": {
     "base_uri": "https://localhost:8080/",
     "height": 775
    },
    "colab_type": "code",
    "id": "V3XV-OCM4_wE",
    "outputId": "7fc0d0ec-fa62-4728-b353-d4009ed5f58a"
   },
   "outputs": [
    {
     "name": "stdout",
     "output_type": "stream",
     "text": [
      "total number of features 40\n",
      "Score: 0.8333333333333334\n"
     ]
    },
    {
     "name": "stderr",
     "output_type": "stream",
     "text": [
      "/var/folders/yz/lkm_ct5s5t74jpsnrc96_46h0000gn/T/ipykernel_32575/1660043069.py:16: DeprecationWarning: `np.int` is a deprecated alias for the builtin `int`. To silence this warning, use `int` by itself. Doing this will not modify any behavior and is safe. When replacing `np.int`, you may wish to use e.g. `np.int64` or `np.int32` to specify the precision. If you wish to review your current use, check the release note link for additional information.\n",
      "Deprecated in NumPy 1.20; for more details and guidance: https://numpy.org/devdocs/release/1.20.0-notes.html#deprecations\n",
      "  return np.array(features), np.array(labels, dtype = np.int)\n"
     ]
    },
    {
     "name": "stdout",
     "output_type": "stream",
     "text": [
      "cross_val_scores: [1.  1.  0.4 1.  1. ]\n",
      "Accuracy: 0.88 (+/- 0.48)\n",
      "0.8333333333333334\n",
      "              precision    recall  f1-score   support\n",
      "\n",
      "           0       0.75      1.00      0.86         3\n",
      "           1       1.00      0.67      0.80         3\n",
      "\n",
      "    accuracy                           0.83         6\n",
      "   macro avg       0.88      0.83      0.83         6\n",
      "weighted avg       0.88      0.83      0.83         6\n",
      "\n",
      "[[3 0]\n",
      " [1 2]]\n",
      "\n",
      "Confusion matrix, without normalization\n",
      "[[3 0]\n",
      " [1 2]]\n",
      "*** Scaled ***\n",
      "scaled_model score: 0.8333333333333334\n"
     ]
    },
    {
     "data": {
      "image/png": "[encoded data removed]",
      "text/plain": [
       "<Figure size 432x288 with 2 Axes>"
      ]
     },
     "metadata": {
      "needs_background": "light"
     },
     "output_type": "display_data"
    }
   ],
   "source": [
    "features_to_include = ['mfccs_40']\n",
    "from sklearn.ensemble import RandomForestClassifier\n",
    "model = RandomForestClassifier(n_estimators = 50)\n",
    "rf = train(features_to_include, model)"
   ]
  },
  {
   "cell_type": "code",
   "execution_count": 16,
   "metadata": {
    "colab": {},
    "colab_type": "code",
    "id": "KXtXNSZSlCmH"
   },
   "outputs": [],
   "source": [
    "#working model\n",
    "from sklearn.ensemble import RandomForestClassifier\n",
    "from sklearn.model_selection import train_test_split\n",
    "\n",
    "rf = RandomForestClassifier(n_estimators = 100)\n",
    "X = list(df.mfccs_40.values)\n",
    "y = df.label.values\n",
    "X_train, X_test, y_train, y_test = train_test_split(X, y, test_size=0.33, random_state=42)\n",
    "\n",
    "fit_model = rf.fit(X_train, y_train)"
   ]
  },
  {
   "cell_type": "code",
   "execution_count": 17,
   "metadata": {
    "colab": {},
    "colab_type": "code",
    "id": "_JIua0hTyPwq"
   },
   "outputs": [],
   "source": [
    "save_model(fit_model,\"rf\")"
   ]
  },
  {
   "cell_type": "markdown",
   "metadata": {
    "colab_type": "text",
    "id": "W_gkeCdhC3eM"
   },
   "source": [
    "## XGBoost"
   ]
  },
  {
   "cell_type": "code",
   "execution_count": 19,
   "metadata": {
    "colab": {
     "base_uri": "https://localhost:8080/",
     "height": 877
    },
    "colab_type": "code",
    "id": "2v_LDj2M_8WY",
    "outputId": "a0b41f92-940a-44e5-ba8a-77849f696e78"
   },
   "outputs": [
    {
     "ename": "XGBoostError",
     "evalue": "\nXGBoost Library (libxgboost.dylib) could not be loaded.\nLikely causes:\n  * OpenMP runtime is not installed\n    - vcomp140.dll or libgomp-1.dll for Windows\n    - libomp.dylib for Mac OSX\n    - libgomp.so for Linux and other UNIX-like OSes\n    Mac OSX users: Run `brew install libomp` to install OpenMP runtime.\n\n  * You are running 32-bit Python on a 64-bit OS\n\nError message(s): ['dlopen(/Users/habi/opt/miniconda3/lib/python3.9/site-packages/xgboost/lib/libxgboost.dylib, 6): Library not loaded: /usr/local/opt/libomp/lib/libomp.dylib\\n  Referenced from: /Users/habi/opt/miniconda3/lib/python3.9/site-packages/xgboost/lib/libxgboost.dylib\\n  Reason: image not found']\n",
     "output_type": "error",
     "traceback": [
      "\u001b[0;31m---------------------------------------------------------------------------\u001b[0m",
      "\u001b[0;31mXGBoostError\u001b[0m                              Traceback (most recent call last)",
      "\u001b[0;32m/var/folders/yz/lkm_ct5s5t74jpsnrc96_46h0000gn/T/ipykernel_32575/860040371.py\u001b[0m in \u001b[0;36m<module>\u001b[0;34m\u001b[0m\n\u001b[0;32m----> 1\u001b[0;31m \u001b[0;32mimport\u001b[0m \u001b[0mxgboost\u001b[0m \u001b[0;32mas\u001b[0m \u001b[0mxgb\u001b[0m\u001b[0;34m\u001b[0m\u001b[0;34m\u001b[0m\u001b[0m\n\u001b[0m\u001b[1;32m      2\u001b[0m \u001b[0;34m\u001b[0m\u001b[0m\n\u001b[1;32m      3\u001b[0m \u001b[0mfeatures_to_include\u001b[0m \u001b[0;34m=\u001b[0m \u001b[0;34m[\u001b[0m\u001b[0;34m'mfccs_40'\u001b[0m\u001b[0;34m]\u001b[0m\u001b[0;34m\u001b[0m\u001b[0;34m\u001b[0m\u001b[0m\n\u001b[1;32m      4\u001b[0m \u001b[0mmodel\u001b[0m \u001b[0;34m=\u001b[0m \u001b[0mxgb\u001b[0m\u001b[0;34m.\u001b[0m\u001b[0mXGBClassifier\u001b[0m\u001b[0;34m(\u001b[0m\u001b[0;34m)\u001b[0m\u001b[0;34m\u001b[0m\u001b[0;34m\u001b[0m\u001b[0m\n\u001b[1;32m      5\u001b[0m \u001b[0mtrain\u001b[0m\u001b[0;34m(\u001b[0m\u001b[0mfeatures_to_include\u001b[0m\u001b[0;34m,\u001b[0m \u001b[0mmodel\u001b[0m\u001b[0;34m)\u001b[0m\u001b[0;34m\u001b[0m\u001b[0;34m\u001b[0m\u001b[0m\n",
      "\u001b[0;32m~/opt/miniconda3/lib/python3.9/site-packages/xgboost/__init__.py\u001b[0m in \u001b[0;36m<module>\u001b[0;34m\u001b[0m\n\u001b[1;32m      7\u001b[0m \u001b[0;32mimport\u001b[0m \u001b[0mos\u001b[0m\u001b[0;34m\u001b[0m\u001b[0;34m\u001b[0m\u001b[0m\n\u001b[1;32m      8\u001b[0m \u001b[0;34m\u001b[0m\u001b[0m\n\u001b[0;32m----> 9\u001b[0;31m \u001b[0;32mfrom\u001b[0m \u001b[0;34m.\u001b[0m\u001b[0mcore\u001b[0m \u001b[0;32mimport\u001b[0m \u001b[0mDMatrix\u001b[0m\u001b[0;34m,\u001b[0m \u001b[0mDeviceQuantileDMatrix\u001b[0m\u001b[0;34m,\u001b[0m \u001b[0mBooster\u001b[0m\u001b[0;34m,\u001b[0m \u001b[0mDataIter\u001b[0m\u001b[0;34m\u001b[0m\u001b[0;34m\u001b[0m\u001b[0m\n\u001b[0m\u001b[1;32m     10\u001b[0m \u001b[0;32mfrom\u001b[0m \u001b[0;34m.\u001b[0m\u001b[0mtraining\u001b[0m \u001b[0;32mimport\u001b[0m \u001b[0mtrain\u001b[0m\u001b[0;34m,\u001b[0m \u001b[0mcv\u001b[0m\u001b[0;34m\u001b[0m\u001b[0;34m\u001b[0m\u001b[0m\n\u001b[1;32m     11\u001b[0m \u001b[0;32mfrom\u001b[0m \u001b[0;34m.\u001b[0m \u001b[0;32mimport\u001b[0m \u001b[0mrabit\u001b[0m  \u001b[0;31m# noqa\u001b[0m\u001b[0;34m\u001b[0m\u001b[0;34m\u001b[0m\u001b[0m\n",
      "\u001b[0;32m~/opt/miniconda3/lib/python3.9/site-packages/xgboost/core.py\u001b[0m in \u001b[0;36m<module>\u001b[0;34m\u001b[0m\n\u001b[1;32m    201\u001b[0m \u001b[0;34m\u001b[0m\u001b[0m\n\u001b[1;32m    202\u001b[0m \u001b[0;31m# load the XGBoost library globally\u001b[0m\u001b[0;34m\u001b[0m\u001b[0;34m\u001b[0m\u001b[0;34m\u001b[0m\u001b[0m\n\u001b[0;32m--> 203\u001b[0;31m \u001b[0m_LIB\u001b[0m \u001b[0;34m=\u001b[0m \u001b[0m_load_lib\u001b[0m\u001b[0;34m(\u001b[0m\u001b[0;34m)\u001b[0m\u001b[0;34m\u001b[0m\u001b[0;34m\u001b[0m\u001b[0m\n\u001b[0m\u001b[1;32m    204\u001b[0m \u001b[0;34m\u001b[0m\u001b[0m\n\u001b[1;32m    205\u001b[0m \u001b[0;34m\u001b[0m\u001b[0m\n",
      "\u001b[0;32m~/opt/miniconda3/lib/python3.9/site-packages/xgboost/core.py\u001b[0m in \u001b[0;36m_load_lib\u001b[0;34m()\u001b[0m\n\u001b[1;32m    179\u001b[0m     \u001b[0;32mif\u001b[0m \u001b[0;32mnot\u001b[0m \u001b[0mlib_success\u001b[0m\u001b[0;34m:\u001b[0m\u001b[0;34m\u001b[0m\u001b[0;34m\u001b[0m\u001b[0m\n\u001b[1;32m    180\u001b[0m         \u001b[0mlibname\u001b[0m \u001b[0;34m=\u001b[0m \u001b[0mos\u001b[0m\u001b[0;34m.\u001b[0m\u001b[0mpath\u001b[0m\u001b[0;34m.\u001b[0m\u001b[0mbasename\u001b[0m\u001b[0;34m(\u001b[0m\u001b[0mlib_paths\u001b[0m\u001b[0;34m[\u001b[0m\u001b[0;36m0\u001b[0m\u001b[0;34m]\u001b[0m\u001b[0;34m)\u001b[0m\u001b[0;34m\u001b[0m\u001b[0;34m\u001b[0m\u001b[0m\n\u001b[0;32m--> 181\u001b[0;31m         raise XGBoostError(\n\u001b[0m\u001b[1;32m    182\u001b[0m             f\"\"\"\n\u001b[1;32m    183\u001b[0m \u001b[0mXGBoost\u001b[0m \u001b[0mLibrary\u001b[0m \u001b[0;34m(\u001b[0m\u001b[0;34m{\u001b[0m\u001b[0mlibname\u001b[0m\u001b[0;34m}\u001b[0m\u001b[0;34m)\u001b[0m \u001b[0mcould\u001b[0m \u001b[0;32mnot\u001b[0m \u001b[0mbe\u001b[0m \u001b[0mloaded\u001b[0m\u001b[0;34m.\u001b[0m\u001b[0;34m\u001b[0m\u001b[0;34m\u001b[0m\u001b[0m\n",
      "\u001b[0;31mXGBoostError\u001b[0m: \nXGBoost Library (libxgboost.dylib) could not be loaded.\nLikely causes:\n  * OpenMP runtime is not installed\n    - vcomp140.dll or libgomp-1.dll for Windows\n    - libomp.dylib for Mac OSX\n    - libgomp.so for Linux and other UNIX-like OSes\n    Mac OSX users: Run `brew install libomp` to install OpenMP runtime.\n\n  * You are running 32-bit Python on a 64-bit OS\n\nError message(s): ['dlopen(/Users/habi/opt/miniconda3/lib/python3.9/site-packages/xgboost/lib/libxgboost.dylib, 6): Library not loaded: /usr/local/opt/libomp/lib/libomp.dylib\\n  Referenced from: /Users/habi/opt/miniconda3/lib/python3.9/site-packages/xgboost/lib/libxgboost.dylib\\n  Reason: image not found']\n"
     ]
    }
   ],
   "source": [
    "import xgboost as xgb\n",
    "\n",
    "features_to_include = ['mfccs_40']\n",
    "model = xgb.XGBClassifier()\n",
    "train(features_to_include, model)"
   ]
  },
  {
   "cell_type": "markdown",
   "metadata": {
    "colab_type": "text",
    "id": "Bes2N-7rbQbn"
   },
   "source": []
  },
  {
   "cell_type": "markdown",
   "metadata": {
    "colab_type": "text",
    "id": "YBqTkhrAC7e_"
   },
   "source": [
    "## LogisticRegression"
   ]
  },
  {
   "cell_type": "code",
   "execution_count": 20,
   "metadata": {
    "colab": {
     "base_uri": "https://localhost:8080/",
     "height": 843
    },
    "colab_type": "code",
    "id": "QRg7yGf6C_He",
    "outputId": "205e0a09-e6d2-4a12-f2c6-b76d01ee76a1"
   },
   "outputs": [
    {
     "name": "stdout",
     "output_type": "stream",
     "text": [
      "total number of features 40\n",
      "Score: 1.0\n",
      "cross_val_scores: [1. 1. 1. 1. 1.]\n",
      "Accuracy: 1.00 (+/- 0.00)\n",
      "1.0\n",
      "              precision    recall  f1-score   support\n",
      "\n",
      "           0       1.00      1.00      1.00         3\n",
      "           1       1.00      1.00      1.00         3\n",
      "\n",
      "    accuracy                           1.00         6\n",
      "   macro avg       1.00      1.00      1.00         6\n",
      "weighted avg       1.00      1.00      1.00         6\n",
      "\n",
      "[[3 0]\n",
      " [0 3]]\n",
      "\n",
      "Confusion matrix, without normalization\n",
      "[[3 0]\n",
      " [0 3]]\n",
      "*** Scaled ***\n",
      "scaled_model score: 0.8333333333333334\n"
     ]
    },
    {
     "name": "stderr",
     "output_type": "stream",
     "text": [
      "/var/folders/yz/lkm_ct5s5t74jpsnrc96_46h0000gn/T/ipykernel_32575/1660043069.py:16: DeprecationWarning: `np.int` is a deprecated alias for the builtin `int`. To silence this warning, use `int` by itself. Doing this will not modify any behavior and is safe. When replacing `np.int`, you may wish to use e.g. `np.int64` or `np.int32` to specify the precision. If you wish to review your current use, check the release note link for additional information.\n",
      "Deprecated in NumPy 1.20; for more details and guidance: https://numpy.org/devdocs/release/1.20.0-notes.html#deprecations\n",
      "  return np.array(features), np.array(labels, dtype = np.int)\n"
     ]
    },
    {
     "data": {
      "text/plain": [
       "LogisticRegression(max_iter=200, solver='liblinear')"
      ]
     },
     "execution_count": 20,
     "metadata": {},
     "output_type": "execute_result"
    },
    {
     "data": {
      "image/png": "[encoded data removed]",
      "text/plain": [
       "<Figure size 432x288 with 2 Axes>"
      ]
     },
     "metadata": {
      "needs_background": "light"
     },
     "output_type": "display_data"
    }
   ],
   "source": [
    "from sklearn.linear_model import LogisticRegression\n",
    "\n",
    "features_to_include = ['mfccs_40']\n",
    "logisticRegr = LogisticRegression(solver='liblinear', max_iter=200)\n",
    "train(features_to_include, logisticRegr)"
   ]
  },
  {
   "cell_type": "markdown",
   "metadata": {
    "colab_type": "text",
    "id": "uoblFc3YDwso"
   },
   "source": [
    "## SVM"
   ]
  },
  {
   "cell_type": "code",
   "execution_count": 21,
   "metadata": {
    "colab": {
     "base_uri": "https://localhost:8080/",
     "height": 843
    },
    "colab_type": "code",
    "id": "gGbYUV3ZVfu2",
    "outputId": "995c65c8-e0ce-4151-fb2c-398bfc632c60"
   },
   "outputs": [
    {
     "name": "stdout",
     "output_type": "stream",
     "text": [
      "total number of features 40\n",
      "Score: 1.0\n",
      "cross_val_scores: [1. 1. 1. 1. 1.]\n",
      "Accuracy: 1.00 (+/- 0.00)\n",
      "1.0\n",
      "              precision    recall  f1-score   support\n",
      "\n",
      "           0       1.00      1.00      1.00         3\n",
      "           1       1.00      1.00      1.00         3\n",
      "\n",
      "    accuracy                           1.00         6\n",
      "   macro avg       1.00      1.00      1.00         6\n",
      "weighted avg       1.00      1.00      1.00         6\n",
      "\n",
      "[[3 0]\n",
      " [0 3]]\n",
      "\n",
      "Confusion matrix, without normalization\n",
      "[[3 0]\n",
      " [0 3]]\n",
      "*** Scaled ***\n",
      "scaled_model score: 1.0\n"
     ]
    },
    {
     "name": "stderr",
     "output_type": "stream",
     "text": [
      "/var/folders/yz/lkm_ct5s5t74jpsnrc96_46h0000gn/T/ipykernel_32575/1660043069.py:16: DeprecationWarning: `np.int` is a deprecated alias for the builtin `int`. To silence this warning, use `int` by itself. Doing this will not modify any behavior and is safe. When replacing `np.int`, you may wish to use e.g. `np.int64` or `np.int32` to specify the precision. If you wish to review your current use, check the release note link for additional information.\n",
      "Deprecated in NumPy 1.20; for more details and guidance: https://numpy.org/devdocs/release/1.20.0-notes.html#deprecations\n",
      "  return np.array(features), np.array(labels, dtype = np.int)\n"
     ]
    },
    {
     "data": {
      "text/plain": [
       "SVC()"
      ]
     },
     "execution_count": 21,
     "metadata": {},
     "output_type": "execute_result"
    },
    {
     "data": {
      "image/png": "[encoded data removed]",
      "text/plain": [
       "<Figure size 432x288 with 2 Axes>"
      ]
     },
     "metadata": {
      "needs_background": "light"
     },
     "output_type": "display_data"
    }
   ],
   "source": [
    "from sklearn import svm\n",
    "svm = svm.SVC(gamma='scale')\n",
    "features_to_include = ['mfccs_40']\n",
    "train(features_to_include, svm)"
   ]
  },
  {
   "cell_type": "markdown",
   "metadata": {
    "colab_type": "text",
    "id": "App-uchxwyjm"
   },
   "source": [
    "#Save Model"
   ]
  },
  {
   "cell_type": "code",
   "execution_count": 22,
   "metadata": {
    "colab": {},
    "colab_type": "code",
    "id": "mcZSoOOF41ip"
   },
   "outputs": [],
   "source": [
    "import pickle\n",
    "import datetime\n",
    "filename = \"rf-{}.pkl\".format(datetime.datetime.now().strftime(\"%Y%m%dT%H%M\"))\n",
    "pickle.dump(rf, open(filename, 'wb'))"
   ]
  },
  {
   "cell_type": "code",
   "execution_count": null,
   "metadata": {},
   "outputs": [],
   "source": []
  }
 ],
 "metadata": {
  "colab": {
   "collapsed_sections": [],
   "name": "AMD-Training.ipynb",
   "provenance": [],
   "toc_visible": true,
   "version": "0.3.2"
  },
  "kernelspec": {
   "display_name": "Python 3 (ipykernel)",
   "language": "python",
   "name": "python3"
  },
  "language_info": {
   "codemirror_mode": {
    "name": "ipython",
    "version": 3
   },
   "file_extension": ".py",
   "mimetype": "text/x-python",
   "name": "python",
   "nbconvert_exporter": "python",
   "pygments_lexer": "ipython3",
   "version": "3.9.5"
  }
 },
 "nbformat": 4,
 "nbformat_minor": 1
}

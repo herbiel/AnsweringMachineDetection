{
  "nbformat": 4,
  "nbformat_minor": 0,
  "metadata": {
    "colab": {
      "name": "AMD-Training.ipynb",
      "version": "0.3.2",
      "provenance": [],
      "collapsed_sections": [],
      "toc_visible": true
    },
    "kernelspec": {
      "name": "python3",
      "display_name": "Python 3"
    }
  },
  "cells": [
    {
      "metadata": {
        "id": "HK0vdfSh6k3V",
        "colab_type": "code",
        "colab": {}
      },
      "cell_type": "code",
      "source": [
        "import librosa\n",
        "import librosa.display\n",
        "import numpy as np\n",
        "import pandas as pd\n",
        "import os"
      ],
      "execution_count": 0,
      "outputs": []
    },
    {
      "metadata": {
        "id": "ZyL2xb3t6m2h",
        "colab_type": "code",
        "outputId": "08e094c4-57da-4168-dbe4-7c8df0b72478",
        "colab": {
          "base_uri": "https://localhost:8080/",
          "height": 122
        }
      },
      "cell_type": "code",
      "source": [
        "from google.colab import drive\n",
        "\n",
        "# This will prompt for authorization.\n",
        "drive.mount('/content/drive', force_remount=True)"
      ],
      "execution_count": 2,
      "outputs": [
        {
          "output_type": "stream",
          "text": [
            "Go to this URL in a browser: https://accounts.google.com/o/oauth2/auth?client_id=947318989803-6bn6qk8qdgf4n4g3pfee6491hc0brc4i.apps.googleusercontent.com&redirect_uri=urn%3Aietf%3Awg%3Aoauth%3A2.0%3Aoob&scope=email%20https%3A%2F%2Fwww.googleapis.com%2Fauth%2Fdocs.test%20https%3A%2F%2Fwww.googleapis.com%2Fauth%2Fdrive%20https%3A%2F%2Fwww.googleapis.com%2Fauth%2Fdrive.photos.readonly%20https%3A%2F%2Fwww.googleapis.com%2Fauth%2Fpeopleapi.readonly&response_type=code\n",
            "\n",
            "Enter your authorization code:\n",
            "··········\n",
            "Mounted at /content/drive\n"
          ],
          "name": "stdout"
        }
      ]
    },
    {
      "metadata": {
        "id": "fZQsByci6-OA",
        "colab_type": "code",
        "outputId": "e8a10fa2-e0d6-4bfc-9e4e-9b483b744ee9",
        "colab": {
          "base_uri": "https://localhost:8080/",
          "height": 564
        }
      },
      "cell_type": "code",
      "source": [
        "RECORDINGS_PATH = \"/content/drive/My Drive/amd-training\"\n",
        "os.chdir(RECORDINGS_PATH)\n",
        "df = pd.read_pickle(\"amd-df-01-29-10-41.pkl\")\n",
        "\n",
        "\n",
        "#convert label seriers to ints\n",
        "from sklearn import preprocessing\n",
        "le = preprocessing.LabelEncoder()\n",
        "le.fit(df['label'])\n",
        "df['label'] = le.transform(df['label']) \n",
        "\n",
        "print(\"count:\")\n",
        "print(df.label.value_counts())\n",
        "le_name_mapping = dict(zip(le.classes_, le.transform(le.classes_)))\n",
        "print(le_name_mapping)\n",
        "class_names = le.classes_\n",
        "\n",
        "df.head()\n"
      ],
      "execution_count": 3,
      "outputs": [
        {
          "output_type": "stream",
          "text": [
            "count:\n",
            "0    115\n",
            "1    100\n",
            "Name: label, dtype: int64\n",
            "{'beep': 0, 'speech': 1}\n"
          ],
          "name": "stdout"
        },
        {
          "output_type": "execute_result",
          "data": {
            "text/html": [
              "<div>\n",
              "<style scoped>\n",
              "    .dataframe tbody tr th:only-of-type {\n",
              "        vertical-align: middle;\n",
              "    }\n",
              "\n",
              "    .dataframe tbody tr th {\n",
              "        vertical-align: top;\n",
              "    }\n",
              "\n",
              "    .dataframe thead th {\n",
              "        text-align: right;\n",
              "    }\n",
              "</style>\n",
              "<table border=\"1\" class=\"dataframe\">\n",
              "  <thead>\n",
              "    <tr style=\"text-align: right;\">\n",
              "      <th></th>\n",
              "      <th>file_path</th>\n",
              "      <th>mfccs_40</th>\n",
              "      <th>chroma</th>\n",
              "      <th>mel</th>\n",
              "      <th>contrast</th>\n",
              "      <th>tonnetz</th>\n",
              "      <th>duration</th>\n",
              "      <th>label</th>\n",
              "    </tr>\n",
              "  </thead>\n",
              "  <tbody>\n",
              "    <tr>\n",
              "      <th>0</th>\n",
              "      <td>answering-machine/8cc2e697-18ac-490d-b111-c903...</td>\n",
              "      <td>[-397.80851932784657, 129.86299878531597, -31....</td>\n",
              "      <td>[0.027769387920805723, 0.026351956519476274, 0...</td>\n",
              "      <td>[0.00501725632249827, 0.00037307307871889937, ...</td>\n",
              "      <td>[17.189749244938195, 9.807171017039957, 31.405...</td>\n",
              "      <td>[-0.026947413402462945, 0.04490845356302127, -...</td>\n",
              "      <td>0.313515</td>\n",
              "      <td>0</td>\n",
              "    </tr>\n",
              "    <tr>\n",
              "      <th>2</th>\n",
              "      <td>answering-machine/e5030474-e71d-42ef-ae19-9de2...</td>\n",
              "      <td>[-521.2452137232904, 128.2723489959437, -57.08...</td>\n",
              "      <td>[0.022214466246388547, 0.020847748338262397, 0...</td>\n",
              "      <td>[8.08117545043548e-05, 2.5279908521751625e-05,...</td>\n",
              "      <td>[16.802354517790313, 11.434238706762827, 15.09...</td>\n",
              "      <td>[-0.04474616114861632, -0.026757793833147053, ...</td>\n",
              "      <td>0.391565</td>\n",
              "      <td>0</td>\n",
              "    </tr>\n",
              "    <tr>\n",
              "      <th>4</th>\n",
              "      <td>answering-machine/86e364ff-93a6-44af-8118-0800...</td>\n",
              "      <td>[-513.9673240941539, 128.13275036291947, -52.2...</td>\n",
              "      <td>[0.03300533854443605, 0.03123040030561039, 0.0...</td>\n",
              "      <td>[0.00019455741680095618, 0.0001307129131768416...</td>\n",
              "      <td>[18.01022716689398, 11.078483483064241, 14.929...</td>\n",
              "      <td>[-0.05350142196897563, -0.011836425600422792, ...</td>\n",
              "      <td>0.392698</td>\n",
              "      <td>0</td>\n",
              "    </tr>\n",
              "    <tr>\n",
              "      <th>6</th>\n",
              "      <td>answering-machine/55b654e5-7d9f-4132-bc98-93e5...</td>\n",
              "      <td>[-292.5310592899462, 133.0464309785009, -107.7...</td>\n",
              "      <td>[0.04289080226234471, 0.04354302126840047, 0.0...</td>\n",
              "      <td>[0.05034664909852743, 0.03370046800801785, 0.0...</td>\n",
              "      <td>[10.553363920668197, 11.608186538742027, 11.68...</td>\n",
              "      <td>[-0.00994283535272708, 0.011938087781317153, 0...</td>\n",
              "      <td>0.167619</td>\n",
              "      <td>0</td>\n",
              "    </tr>\n",
              "    <tr>\n",
              "      <th>8</th>\n",
              "      <td>answering-machine/77310681-9ccf-4da7-bf55-dda0...</td>\n",
              "      <td>[-452.8306540327004, 146.34936352766186, -33.5...</td>\n",
              "      <td>[0.02433844901405175, 0.02294809277630422, 0.0...</td>\n",
              "      <td>[0.00011991504535596756, 0.0002250080590753591...</td>\n",
              "      <td>[12.634893574252038, 10.697157333437568, 32.58...</td>\n",
              "      <td>[-0.03433607707284978, 0.039762104955467496, -...</td>\n",
              "      <td>0.315420</td>\n",
              "      <td>0</td>\n",
              "    </tr>\n",
              "  </tbody>\n",
              "</table>\n",
              "</div>"
            ],
            "text/plain": [
              "                                           file_path  \\\n",
              "0  answering-machine/8cc2e697-18ac-490d-b111-c903...   \n",
              "2  answering-machine/e5030474-e71d-42ef-ae19-9de2...   \n",
              "4  answering-machine/86e364ff-93a6-44af-8118-0800...   \n",
              "6  answering-machine/55b654e5-7d9f-4132-bc98-93e5...   \n",
              "8  answering-machine/77310681-9ccf-4da7-bf55-dda0...   \n",
              "\n",
              "                                            mfccs_40  \\\n",
              "0  [-397.80851932784657, 129.86299878531597, -31....   \n",
              "2  [-521.2452137232904, 128.2723489959437, -57.08...   \n",
              "4  [-513.9673240941539, 128.13275036291947, -52.2...   \n",
              "6  [-292.5310592899462, 133.0464309785009, -107.7...   \n",
              "8  [-452.8306540327004, 146.34936352766186, -33.5...   \n",
              "\n",
              "                                              chroma  \\\n",
              "0  [0.027769387920805723, 0.026351956519476274, 0...   \n",
              "2  [0.022214466246388547, 0.020847748338262397, 0...   \n",
              "4  [0.03300533854443605, 0.03123040030561039, 0.0...   \n",
              "6  [0.04289080226234471, 0.04354302126840047, 0.0...   \n",
              "8  [0.02433844901405175, 0.02294809277630422, 0.0...   \n",
              "\n",
              "                                                 mel  \\\n",
              "0  [0.00501725632249827, 0.00037307307871889937, ...   \n",
              "2  [8.08117545043548e-05, 2.5279908521751625e-05,...   \n",
              "4  [0.00019455741680095618, 0.0001307129131768416...   \n",
              "6  [0.05034664909852743, 0.03370046800801785, 0.0...   \n",
              "8  [0.00011991504535596756, 0.0002250080590753591...   \n",
              "\n",
              "                                            contrast  \\\n",
              "0  [17.189749244938195, 9.807171017039957, 31.405...   \n",
              "2  [16.802354517790313, 11.434238706762827, 15.09...   \n",
              "4  [18.01022716689398, 11.078483483064241, 14.929...   \n",
              "6  [10.553363920668197, 11.608186538742027, 11.68...   \n",
              "8  [12.634893574252038, 10.697157333437568, 32.58...   \n",
              "\n",
              "                                             tonnetz  duration  label  \n",
              "0  [-0.026947413402462945, 0.04490845356302127, -...  0.313515      0  \n",
              "2  [-0.04474616114861632, -0.026757793833147053, ...  0.391565      0  \n",
              "4  [-0.05350142196897563, -0.011836425600422792, ...  0.392698      0  \n",
              "6  [-0.00994283535272708, 0.011938087781317153, 0...  0.167619      0  \n",
              "8  [-0.03433607707284978, 0.039762104955467496, -...  0.315420      0  "
            ]
          },
          "metadata": {
            "tags": []
          },
          "execution_count": 3
        }
      ]
    },
    {
      "metadata": {
        "id": "Vz7r076OLtN6",
        "colab_type": "code",
        "outputId": "6e9daf1b-09cc-4fe2-a076-cc795ab2ea3d",
        "colab": {
          "base_uri": "https://localhost:8080/",
          "height": 68
        }
      },
      "cell_type": "code",
      "source": [
        "#remove files with durations longer than 10 seconds\n",
        "df = df.copy()\n",
        "df = df.drop(df[ df['duration']>10].index)\n",
        "df.reset_index(drop=True, inplace=True)\n",
        "\n",
        "print(df.label.value_counts())\n"
      ],
      "execution_count": 4,
      "outputs": [
        {
          "output_type": "stream",
          "text": [
            "0    115\n",
            "1     73\n",
            "Name: label, dtype: int64\n"
          ],
          "name": "stdout"
        }
      ]
    },
    {
      "metadata": {
        "id": "d5qUJc-vCuf7",
        "colab_type": "code",
        "colab": {}
      },
      "cell_type": "code",
      "source": [
        "from sklearn import metrics\n",
        "import matplotlib.pyplot as plt\n",
        "import itertools\n",
        "from sklearn.externals import joblib\n",
        "from google.colab import files\n",
        "import datetime\n",
        "import pickle\n",
        "\n",
        "\n",
        "def print_classification_results(y_test, res):\n",
        "    print(metrics.accuracy_score(y_test, res))\n",
        "    print(metrics.classification_report(y_test, res))\n",
        "    print(metrics.confusion_matrix(y_test, res))\n",
        "    print(\"\")\n",
        "\n",
        "    \n",
        "def plot_confusion_matrix(cm, classes,\n",
        "                          normalize=False,\n",
        "                          title='Confusion matrix',\n",
        "                          cmap=plt.cm.Blues):\n",
        "    \"\"\"\n",
        "    This function prints and plots the confusion matrix.\n",
        "    Normalization can be applied by setting `normalize=True`.\n",
        "    \"\"\"\n",
        "    if normalize:\n",
        "        cm = cm.astype('float') / cm.sum(axis=1)[:, np.newaxis]\n",
        "        print(\"Normalized confusion matrix\")\n",
        "    else:\n",
        "        print('Confusion matrix, without normalization')\n",
        "\n",
        "    print(cm)\n",
        "\n",
        "    plt.imshow(cm, interpolation='nearest', cmap=cmap)\n",
        "    plt.title(title)\n",
        "    plt.colorbar()\n",
        "    tick_marks = np.arange(len(classes))\n",
        "    plt.xticks(tick_marks, classes, rotation=45)\n",
        "    plt.yticks(tick_marks, classes)\n",
        "\n",
        "    fmt = '.2f' if normalize else 'd'\n",
        "    thresh = cm.max() / 2.\n",
        "    for i, j in itertools.product(range(cm.shape[0]), range(cm.shape[1])):\n",
        "        plt.text(j, i, format(cm[i, j], fmt),\n",
        "                 horizontalalignment=\"center\",\n",
        "                 color=\"white\" if cm[i, j] > thresh else \"black\")\n",
        "\n",
        "    plt.ylabel('True label')\n",
        "    plt.xlabel('Predicted label')\n",
        "    plt.tight_layout()\n",
        "    \n",
        "def save_model(model, model_name):\n",
        "  filename = \"{}-{}.pkl\".format(model_name, datetime.datetime.now().strftime(\"%Y%m%dT%H%M\"))\n",
        "  pickle.dump(model, open(filename, 'wb'))\n",
        "  files.download(filename)\n",
        "  \n"
      ],
      "execution_count": 0,
      "outputs": []
    },
    {
      "metadata": {
        "id": "qdkrKetkqwTO",
        "colab_type": "code",
        "colab": {}
      },
      "cell_type": "code",
      "source": [
        "from sklearn.model_selection import train_test_split\n",
        "from sklearn.model_selection import cross_val_score\n",
        "from sklearn import preprocessing\n",
        "\n",
        "def generateFeaturesLabels(features_list):\n",
        "  total_features_len = np.sum([len(df[feature][0]) for feature in features_list])\n",
        "  print(\"total number of features\",total_features_len)\n",
        "  features, labels = np.empty((0,total_features_len)), np.empty(0)\n",
        "  for index, row in df.iterrows():\n",
        "    a = []\n",
        "    for feature in features_list:\n",
        "      a.append(row[feature])\n",
        "      \n",
        "    features = np.vstack([features,np.hstack(a)])\n",
        "    labels = np.append(labels, row[\"label\"])\n",
        "  return np.array(features), np.array(labels, dtype = np.int)\n",
        "\n",
        "def train(features, model):\n",
        "  X, y = generateFeaturesLabels(features)\n",
        "  X_train, X_test, y_train, y_test = train_test_split(X, y, test_size=0.33, random_state=42)\n",
        "  \n",
        "  model.fit(X_train, y_train)\n",
        "  print(\"Score:\",model.score(X_test, y_test))\n",
        "  \n",
        "  cross_val_scores = cross_val_score(model, X, y, cv=5, scoring='f1_macro')\n",
        "  print(\"cross_val_scores:\", cross_val_scores)\n",
        "  print(\"Accuracy: %0.2f (+/- %0.2f)\" % (cross_val_scores.mean(), cross_val_scores.std() * 2))\n",
        "  \n",
        "  predictions = model.predict(X_test)\n",
        "\n",
        "  print_classification_results(y_test, predictions)\n",
        "  \n",
        "  cm = metrics.confusion_matrix(y_test, predictions)\n",
        "  plot_confusion_matrix(cm, class_names)\n",
        "  \n",
        "  print(\"*** Scaled ***\")\n",
        "  scaler = preprocessing.StandardScaler().fit(X_train)\n",
        "  X_train_transformed = scaler.transform(X_train)\n",
        "  scaled_model = model.fit(X_train_transformed, y_train)\n",
        "  X_test_transformed = scaler.transform(X_test)\n",
        "  print(\"scaled_model score:\",model.score(X_test_transformed, y_test))\n",
        "  \n",
        "  return model\n",
        "  \n",
        " "
      ],
      "execution_count": 0,
      "outputs": []
    },
    {
      "metadata": {
        "id": "rV7k6IAdwj3Y",
        "colab_type": "text"
      },
      "cell_type": "markdown",
      "source": [
        "# Training"
      ]
    },
    {
      "metadata": {
        "id": "Nzzs3aFAsnek",
        "colab_type": "text"
      },
      "cell_type": "markdown",
      "source": [
        "## OneVsRest"
      ]
    },
    {
      "metadata": {
        "id": "jQAWYl_JsqAE",
        "colab_type": "code",
        "outputId": "5c0022ba-db3c-4996-bcea-ca16af96477a",
        "colab": {
          "base_uri": "https://localhost:8080/",
          "height": 860
        }
      },
      "cell_type": "code",
      "source": [
        "from sklearn.multiclass import OneVsRestClassifier\n",
        "from sklearn.linear_model import LogisticRegression\n",
        "base_lr = LogisticRegression(solver='lbfgs', max_iter=4000)\n",
        "ovr = OneVsRestClassifier(base_lr)\n",
        "train(['mfccs_40'], ovr)"
      ],
      "execution_count": 7,
      "outputs": [
        {
          "output_type": "stream",
          "text": [
            "total number of features 40\n",
            "Score: 0.9682539682539683\n",
            "cross_val_scores: [0.97275986 0.94602273 1.         1.         0.97084318]\n",
            "Accuracy: 0.98 (+/- 0.04)\n",
            "0.9682539682539683\n",
            "              precision    recall  f1-score   support\n",
            "\n",
            "           0       0.97      0.97      0.97        40\n",
            "           1       0.96      0.96      0.96        23\n",
            "\n",
            "   micro avg       0.97      0.97      0.97        63\n",
            "   macro avg       0.97      0.97      0.97        63\n",
            "weighted avg       0.97      0.97      0.97        63\n",
            "\n",
            "[[39  1]\n",
            " [ 1 22]]\n",
            "\n",
            "Confusion matrix, without normalization\n",
            "[[39  1]\n",
            " [ 1 22]]\n",
            "*** Scaled ***\n",
            "scaled_model score: 0.9841269841269841\n"
          ],
          "name": "stdout"
        },
        {
          "output_type": "execute_result",
          "data": {
            "text/plain": [
              "OneVsRestClassifier(estimator=LogisticRegression(C=1.0, class_weight=None, dual=False, fit_intercept=True,\n",
              "          intercept_scaling=1, max_iter=4000, multi_class='warn',\n",
              "          n_jobs=None, penalty='l2', random_state=None, solver='lbfgs',\n",
              "          tol=0.0001, verbose=0, warm_start=False),\n",
              "          n_jobs=None)"
            ]
          },
          "metadata": {
            "tags": []
          },
          "execution_count": 7
        },
        {
          "output_type": "display_data",
          "data": {
            "image/png": "[encoded data removed]",
            "text/plain": [
              "<Figure size 576x396 with 2 Axes>"
            ]
          },
          "metadata": {
            "tags": []
          }
        }
      ]
    },
    {
      "metadata": {
        "id": "t7UzKYQpx2EC",
        "colab_type": "code",
        "colab": {}
      },
      "cell_type": "code",
      "source": [
        "save_model(ovr,\"ovr\")"
      ],
      "execution_count": 0,
      "outputs": []
    },
    {
      "metadata": {
        "id": "ViJIfEnc49if",
        "colab_type": "text"
      },
      "cell_type": "markdown",
      "source": [
        "## RandomForest"
      ]
    },
    {
      "metadata": {
        "id": "V3XV-OCM4_wE",
        "colab_type": "code",
        "outputId": "7fc0d0ec-fa62-4728-b353-d4009ed5f58a",
        "colab": {
          "base_uri": "https://localhost:8080/",
          "height": 775
        }
      },
      "cell_type": "code",
      "source": [
        "features_to_include = ['mfccs_40']\n",
        "from sklearn.ensemble import RandomForestClassifier\n",
        "model = RandomForestClassifier(n_estimators = 50)\n",
        "rf = train(features_to_include, model)"
      ],
      "execution_count": 8,
      "outputs": [
        {
          "output_type": "stream",
          "text": [
            "total number of features 40\n",
            "Score: 1.0\n",
            "cross_val_scores: [0.97275986 0.97275986 1.         1.         1.        ]\n",
            "Accuracy: 0.99 (+/- 0.03)\n",
            "1.0\n",
            "              precision    recall  f1-score   support\n",
            "\n",
            "           0       1.00      1.00      1.00        40\n",
            "           1       1.00      1.00      1.00        23\n",
            "\n",
            "   micro avg       1.00      1.00      1.00        63\n",
            "   macro avg       1.00      1.00      1.00        63\n",
            "weighted avg       1.00      1.00      1.00        63\n",
            "\n",
            "[[40  0]\n",
            " [ 0 23]]\n",
            "\n",
            "Confusion matrix, without normalization\n",
            "[[40  0]\n",
            " [ 0 23]]\n",
            "*** Scaled ***\n",
            "scaled_model score: 0.9841269841269841\n"
          ],
          "name": "stdout"
        },
        {
          "output_type": "display_data",
          "data": {
            "image/png": "[encoded data removed]",
            "text/plain": [
              "<Figure size 576x396 with 2 Axes>"
            ]
          },
          "metadata": {
            "tags": []
          }
        }
      ]
    },
    {
      "metadata": {
        "id": "KXtXNSZSlCmH",
        "colab_type": "code",
        "colab": {}
      },
      "cell_type": "code",
      "source": [
        "#working model\n",
        "from sklearn.ensemble import RandomForestClassifier\n",
        "from sklearn.model_selection import train_test_split\n",
        "\n",
        "rf = RandomForestClassifier(n_estimators = 100)\n",
        "X = list(df.mfccs_40.values)\n",
        "y = df.label.values\n",
        "X_train, X_test, y_train, y_test = train_test_split(X, y, test_size=0.33, random_state=42)\n",
        "\n",
        "fit_model = rf.fit(X_train, y_train)"
      ],
      "execution_count": 0,
      "outputs": []
    },
    {
      "metadata": {
        "id": "_JIua0hTyPwq",
        "colab_type": "code",
        "colab": {}
      },
      "cell_type": "code",
      "source": [
        "save_model(fit_model,\"rf\")"
      ],
      "execution_count": 0,
      "outputs": []
    },
    {
      "metadata": {
        "id": "W_gkeCdhC3eM",
        "colab_type": "text"
      },
      "cell_type": "markdown",
      "source": [
        "## XGBoost"
      ]
    },
    {
      "metadata": {
        "id": "2v_LDj2M_8WY",
        "colab_type": "code",
        "outputId": "a0b41f92-940a-44e5-ba8a-77849f696e78",
        "colab": {
          "base_uri": "https://localhost:8080/",
          "height": 877
        }
      },
      "cell_type": "code",
      "source": [
        "import xgboost as xgb\n",
        "\n",
        "features_to_include = ['mfccs_40']\n",
        "model = xgb.XGBClassifier()\n",
        "train(features_to_include, model)"
      ],
      "execution_count": 9,
      "outputs": [
        {
          "output_type": "stream",
          "text": [
            "total number of features 40\n",
            "Score: 0.9682539682539683\n",
            "cross_val_scores: [0.94602273 0.94492754 0.94345238 0.94070513 0.94393939]\n",
            "Accuracy: 0.94 (+/- 0.00)\n",
            "0.9682539682539683\n",
            "              precision    recall  f1-score   support\n",
            "\n",
            "           0       1.00      0.95      0.97        40\n",
            "           1       0.92      1.00      0.96        23\n",
            "\n",
            "   micro avg       0.97      0.97      0.97        63\n",
            "   macro avg       0.96      0.97      0.97        63\n",
            "weighted avg       0.97      0.97      0.97        63\n",
            "\n",
            "[[38  2]\n",
            " [ 0 23]]\n",
            "\n",
            "Confusion matrix, without normalization\n",
            "[[38  2]\n",
            " [ 0 23]]\n",
            "*** Scaled ***\n",
            "scaled_model score: 0.9682539682539683\n"
          ],
          "name": "stdout"
        },
        {
          "output_type": "execute_result",
          "data": {
            "text/plain": [
              "XGBClassifier(base_score=0.5, booster='gbtree', colsample_bylevel=1,\n",
              "       colsample_bytree=1, gamma=0, learning_rate=0.1, max_delta_step=0,\n",
              "       max_depth=3, min_child_weight=1, missing=None, n_estimators=100,\n",
              "       n_jobs=1, nthread=None, objective='binary:logistic', random_state=0,\n",
              "       reg_alpha=0, reg_lambda=1, scale_pos_weight=1, seed=None,\n",
              "       silent=True, subsample=1)"
            ]
          },
          "metadata": {
            "tags": []
          },
          "execution_count": 9
        },
        {
          "output_type": "display_data",
          "data": {
            "image/png": "[encoded data removed]",
            "text/plain": [
              "<Figure size 576x396 with 2 Axes>"
            ]
          },
          "metadata": {
            "tags": []
          }
        }
      ]
    },
    {
      "metadata": {
        "id": "Bes2N-7rbQbn",
        "colab_type": "text"
      },
      "cell_type": "markdown",
      "source": [
        ""
      ]
    },
    {
      "metadata": {
        "id": "YBqTkhrAC7e_",
        "colab_type": "text"
      },
      "cell_type": "markdown",
      "source": [
        "## LogisticRegression"
      ]
    },
    {
      "metadata": {
        "id": "QRg7yGf6C_He",
        "colab_type": "code",
        "outputId": "205e0a09-e6d2-4a12-f2c6-b76d01ee76a1",
        "colab": {
          "base_uri": "https://localhost:8080/",
          "height": 843
        }
      },
      "cell_type": "code",
      "source": [
        "from sklearn.linear_model import LogisticRegression\n",
        "\n",
        "features_to_include = ['mfccs_40']\n",
        "logisticRegr = LogisticRegression(solver='liblinear', max_iter=200)\n",
        "train(features_to_include, logisticRegr)"
      ],
      "execution_count": 10,
      "outputs": [
        {
          "output_type": "stream",
          "text": [
            "total number of features 40\n",
            "Score: 0.9682539682539683\n",
            "cross_val_scores: [0.94602273 0.94602273 1.         0.97084318 1.        ]\n",
            "Accuracy: 0.97 (+/- 0.05)\n",
            "0.9682539682539683\n",
            "              precision    recall  f1-score   support\n",
            "\n",
            "           0       1.00      0.95      0.97        40\n",
            "           1       0.92      1.00      0.96        23\n",
            "\n",
            "   micro avg       0.97      0.97      0.97        63\n",
            "   macro avg       0.96      0.97      0.97        63\n",
            "weighted avg       0.97      0.97      0.97        63\n",
            "\n",
            "[[38  2]\n",
            " [ 0 23]]\n",
            "\n",
            "Confusion matrix, without normalization\n",
            "[[38  2]\n",
            " [ 0 23]]\n",
            "*** Scaled ***\n",
            "scaled_model score: 0.9682539682539683\n"
          ],
          "name": "stdout"
        },
        {
          "output_type": "execute_result",
          "data": {
            "text/plain": [
              "LogisticRegression(C=1.0, class_weight=None, dual=False, fit_intercept=True,\n",
              "          intercept_scaling=1, max_iter=200, multi_class='warn',\n",
              "          n_jobs=None, penalty='l2', random_state=None, solver='liblinear',\n",
              "          tol=0.0001, verbose=0, warm_start=False)"
            ]
          },
          "metadata": {
            "tags": []
          },
          "execution_count": 10
        },
        {
          "output_type": "display_data",
          "data": {
            "image/png": "[encoded data removed]",
            "text/plain": [
              "<Figure size 576x396 with 2 Axes>"
            ]
          },
          "metadata": {
            "tags": []
          }
        }
      ]
    },
    {
      "metadata": {
        "id": "uoblFc3YDwso",
        "colab_type": "text"
      },
      "cell_type": "markdown",
      "source": [
        "## SVM"
      ]
    },
    {
      "metadata": {
        "id": "gGbYUV3ZVfu2",
        "colab_type": "code",
        "outputId": "995c65c8-e0ce-4151-fb2c-398bfc632c60",
        "colab": {
          "base_uri": "https://localhost:8080/",
          "height": 843
        }
      },
      "cell_type": "code",
      "source": [
        "from sklearn import svm\n",
        "svm = svm.SVC(gamma='scale')\n",
        "features_to_include = ['mfccs_40']\n",
        "train(features_to_include, svm)"
      ],
      "execution_count": 11,
      "outputs": [
        {
          "output_type": "stream",
          "text": [
            "total number of features 40\n",
            "Score: 0.8412698412698413\n",
            "cross_val_scores: [0.86759582 0.86759582 0.97275986 0.97164751 1.        ]\n",
            "Accuracy: 0.94 (+/- 0.11)\n",
            "0.8412698412698413\n",
            "              precision    recall  f1-score   support\n",
            "\n",
            "           0       1.00      0.75      0.86        40\n",
            "           1       0.70      1.00      0.82        23\n",
            "\n",
            "   micro avg       0.84      0.84      0.84        63\n",
            "   macro avg       0.85      0.88      0.84        63\n",
            "weighted avg       0.89      0.84      0.84        63\n",
            "\n",
            "[[30 10]\n",
            " [ 0 23]]\n",
            "\n",
            "Confusion matrix, without normalization\n",
            "[[30 10]\n",
            " [ 0 23]]\n",
            "*** Scaled ***\n",
            "scaled_model score: 1.0\n"
          ],
          "name": "stdout"
        },
        {
          "output_type": "execute_result",
          "data": {
            "text/plain": [
              "SVC(C=1.0, cache_size=200, class_weight=None, coef0=0.0,\n",
              "  decision_function_shape='ovr', degree=3, gamma='scale', kernel='rbf',\n",
              "  max_iter=-1, probability=False, random_state=None, shrinking=True,\n",
              "  tol=0.001, verbose=False)"
            ]
          },
          "metadata": {
            "tags": []
          },
          "execution_count": 11
        },
        {
          "output_type": "display_data",
          "data": {
            "image/png": "[encoded data removed]",
            "text/plain": [
              "<Figure size 576x396 with 2 Axes>"
            ]
          },
          "metadata": {
            "tags": []
          }
        }
      ]
    },
    {
      "metadata": {
        "id": "App-uchxwyjm",
        "colab_type": "text"
      },
      "cell_type": "markdown",
      "source": [
        "#Save Model"
      ]
    },
    {
      "metadata": {
        "id": "mcZSoOOF41ip",
        "colab_type": "code",
        "colab": {}
      },
      "cell_type": "code",
      "source": [
        "import pickle\n",
        "import datetime\n",
        "filename = \"rf-{}.pkl\".format(datetime.datetime.now().strftime(\"%Y%m%dT%H%M\"))\n",
        "pickle.dump(rf, open(filename, 'wb'))"
      ],
      "execution_count": 0,
      "outputs": []
    }
  ]
}